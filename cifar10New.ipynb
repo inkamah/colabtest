{
  "nbformat": 4,
  "nbformat_minor": 5,
  "metadata": {
    "kernelspec": {
      "display_name": "Python 3",
      "language": "python",
      "name": "python3"
    },
    "language_info": {
      "codemirror_mode": {
        "name": "ipython",
        "version": 3
      },
      "file_extension": ".py",
      "mimetype": "text/x-python",
      "name": "python",
      "nbconvert_exporter": "python",
      "pygments_lexer": "ipython3",
      "version": "3.8.10"
    },
    "colab": {
      "name": "cifar10New.ipynb",
      "provenance": [],
      "include_colab_link": true
    },
    "accelerator": "GPU"
  },
  "cells": [
    {
      "cell_type": "markdown",
      "metadata": {
        "id": "view-in-github",
        "colab_type": "text"
      },
      "source": [
        "<a href=\"https://colab.research.google.com/github/inkamah/colabtest/blob/main/cifar10New.ipynb\" target=\"_parent\"><img src=\"https://colab.research.google.com/assets/colab-badge.svg\" alt=\"Open In Colab\"/></a>"
      ]
    },
    {
      "cell_type": "code",
      "metadata": {
        "colab": {
          "base_uri": "https://localhost:8080/"
        },
        "id": "dc8a9900",
        "outputId": "eda81177-6271-41ce-fa7d-10156b793552"
      },
      "source": [
        "#https://machinelearningmastery.com/how-to-develop-a-cnn-from-scratch-for-cifar-10-photo-classification/\n",
        "import tensorflow as tf\n",
        "import keras\n",
        "from keras import backend as K\n",
        "import numpy as np\n",
        "\n",
        "from keras.models import Sequential\n",
        "from keras.layers import Conv2D, MaxPooling2D, Flatten , Dense, Activation,Dropout\n",
        "from keras.optimizers import SGD\n",
        "from tensorflow.keras.utils import to_categorical\n",
        "\n",
        "import matplotlib.pyplot as plt\n",
        "#print(tf.__version__)\n",
        "#print(keras.__version__)\n",
        "\n",
        "from keras.datasets import cifar10\n",
        "(x_train, y_train), (x_test, y_test) = cifar10.load_data()\n",
        "\n",
        "print(\"Train samples:\", x_train.shape, y_train.shape)\n",
        "print(\"Test samples:\", x_test.shape, y_test.shape)\n",
        "\n",
        "NUM_CLASSES = 10\n",
        "cifar10_classes = [\"airplane\", \"automobile\", \"bird\", \"cat\", \"deer\", \n",
        "                   \"dog\", \"frog\", \"horse\", \"ship\", \"truck\"]\n",
        "\n",
        "x_train_norm = x_train.astype('float32')\n",
        "x_test_norm = x_test.astype('float32')\n",
        "# normalize to range 0-1\n",
        "x_train_norm = x_train_norm / 255.0\n",
        "x_test_norm = x_test_norm / 255.0 \n",
        "y_train = to_categorical(y_train,NUM_CLASSES)\n",
        "y_test = to_categorical(y_test,NUM_CLASSES)\n",
        "\n",
        "print(x_train_norm.dtype)\n",
        "\n",
        "#plt.imshow(x_train[1])\n",
        "#plt.imshow(x_train_norm[1])\n",
        "         "
      ],
      "id": "dc8a9900",
      "execution_count": 1,
      "outputs": [
        {
          "output_type": "stream",
          "text": [
            "Downloading data from https://www.cs.toronto.edu/~kriz/cifar-10-python.tar.gz\n",
            "170500096/170498071 [==============================] - 6s 0us/step\n",
            "170508288/170498071 [==============================] - 6s 0us/step\n",
            "Train samples: (50000, 32, 32, 3) (50000, 1)\n",
            "Test samples: (10000, 32, 32, 3) (10000, 1)\n",
            "float32\n"
          ],
          "name": "stdout"
        }
      ]
    },
    {
      "cell_type": "code",
      "metadata": {
        "id": "fdc1b28b"
      },
      "source": [
        "def define_model():\n",
        "\tmodel = Sequential()\n",
        "\tmodel.add(Conv2D(32, (3, 3), activation='relu', kernel_initializer='he_uniform', padding='same', input_shape=(32, 32, 3)))\n",
        "\tmodel.add(Conv2D(32, (3, 3), activation='relu', kernel_initializer='he_uniform', padding='same'))\n",
        "\tmodel.add(MaxPooling2D((2, 2)))\n",
        "\tmodel.add(Conv2D(64, (3, 3), activation='relu', kernel_initializer='he_uniform', padding='same'))\n",
        "\tmodel.add(Conv2D(64, (3, 3), activation='relu', kernel_initializer='he_uniform', padding='same'))\n",
        "\tmodel.add(MaxPooling2D((2, 2)))\n",
        "\tmodel.add(Conv2D(128, (3, 3), activation='relu', kernel_initializer='he_uniform', padding='same'))\n",
        "\tmodel.add(Conv2D(128, (3, 3), activation='relu', kernel_initializer='he_uniform', padding='same'))\n",
        "\tmodel.add(MaxPooling2D((2, 2)))\n",
        "\tmodel.add(Flatten())\n",
        "\tmodel.add(Dense(128, activation='relu', kernel_initializer='he_uniform'))\n",
        "\tmodel.add(Dense(10, activation='softmax'))\n",
        "\t# compile model\n",
        "\topt = SGD(lr=0.001, momentum=0.9)\n",
        "\tmodel.compile(optimizer=opt, loss='categorical_crossentropy', metrics=['accuracy'])\n",
        "\treturn model\n"
      ],
      "id": "fdc1b28b",
      "execution_count": 2,
      "outputs": []
    },
    {
      "cell_type": "code",
      "metadata": {
        "colab": {
          "base_uri": "https://localhost:8080/"
        },
        "id": "3229b87a",
        "outputId": "701b95cc-b578-484a-a0b7-e9c67e3ee280"
      },
      "source": [
        "model = define_model()\n",
        "# fit model\n",
        "model.fit(x_train_norm, y_train, epochs=30, batch_size=64, validation_split = 0.2)\n",
        "# save model\n",
        "model.save('cifar10model.model')"
      ],
      "id": "3229b87a",
      "execution_count": 3,
      "outputs": [
        {
          "output_type": "stream",
          "text": [
            "/usr/local/lib/python3.7/dist-packages/tensorflow/python/keras/optimizer_v2/optimizer_v2.py:375: UserWarning: The `lr` argument is deprecated, use `learning_rate` instead.\n",
            "  \"The `lr` argument is deprecated, use `learning_rate` instead.\")\n"
          ],
          "name": "stderr"
        },
        {
          "output_type": "stream",
          "text": [
            "Epoch 1/30\n",
            "625/625 [==============================] - 58s 23ms/step - loss: 2.0024 - accuracy: 0.2766 - val_loss: 1.4958 - val_accuracy: 0.4661\n",
            "Epoch 2/30\n",
            "625/625 [==============================] - 13s 21ms/step - loss: 1.4379 - accuracy: 0.4823 - val_loss: 1.3270 - val_accuracy: 0.5290\n",
            "Epoch 3/30\n",
            "625/625 [==============================] - 14s 22ms/step - loss: 1.2823 - accuracy: 0.5496 - val_loss: 1.2154 - val_accuracy: 0.5736\n",
            "Epoch 4/30\n",
            "625/625 [==============================] - 13s 21ms/step - loss: 1.1542 - accuracy: 0.5939 - val_loss: 1.1459 - val_accuracy: 0.5991\n",
            "Epoch 5/30\n",
            "625/625 [==============================] - 14s 22ms/step - loss: 1.0367 - accuracy: 0.6345 - val_loss: 1.0597 - val_accuracy: 0.6308\n",
            "Epoch 6/30\n",
            "625/625 [==============================] - 13s 21ms/step - loss: 0.9506 - accuracy: 0.6731 - val_loss: 1.0559 - val_accuracy: 0.6346\n",
            "Epoch 7/30\n",
            "625/625 [==============================] - 13s 21ms/step - loss: 0.8754 - accuracy: 0.6956 - val_loss: 0.9630 - val_accuracy: 0.6667\n",
            "Epoch 8/30\n",
            "625/625 [==============================] - 13s 21ms/step - loss: 0.8035 - accuracy: 0.7241 - val_loss: 0.9454 - val_accuracy: 0.6741\n",
            "Epoch 9/30\n",
            "625/625 [==============================] - 13s 21ms/step - loss: 0.7499 - accuracy: 0.7433 - val_loss: 0.9602 - val_accuracy: 0.6713\n",
            "Epoch 10/30\n",
            "625/625 [==============================] - 14s 22ms/step - loss: 0.6865 - accuracy: 0.7624 - val_loss: 0.8800 - val_accuracy: 0.7029\n",
            "Epoch 11/30\n",
            "625/625 [==============================] - 13s 21ms/step - loss: 0.6245 - accuracy: 0.7867 - val_loss: 0.9017 - val_accuracy: 0.7033\n",
            "Epoch 12/30\n",
            "625/625 [==============================] - 13s 21ms/step - loss: 0.5847 - accuracy: 0.7999 - val_loss: 0.9132 - val_accuracy: 0.7014\n",
            "Epoch 13/30\n",
            "625/625 [==============================] - 14s 22ms/step - loss: 0.5245 - accuracy: 0.8213 - val_loss: 0.9546 - val_accuracy: 0.6902\n",
            "Epoch 14/30\n",
            "625/625 [==============================] - 13s 21ms/step - loss: 0.4791 - accuracy: 0.8353 - val_loss: 0.9407 - val_accuracy: 0.7057\n",
            "Epoch 15/30\n",
            "625/625 [==============================] - 14s 22ms/step - loss: 0.4213 - accuracy: 0.8554 - val_loss: 0.9263 - val_accuracy: 0.7124\n",
            "Epoch 16/30\n",
            "625/625 [==============================] - 13s 21ms/step - loss: 0.3760 - accuracy: 0.8722 - val_loss: 0.9371 - val_accuracy: 0.7123\n",
            "Epoch 17/30\n",
            "625/625 [==============================] - 14s 22ms/step - loss: 0.3335 - accuracy: 0.8856 - val_loss: 0.9878 - val_accuracy: 0.7089\n",
            "Epoch 18/30\n",
            "625/625 [==============================] - 13s 21ms/step - loss: 0.2917 - accuracy: 0.9018 - val_loss: 1.0786 - val_accuracy: 0.6988\n",
            "Epoch 19/30\n",
            "625/625 [==============================] - 13s 21ms/step - loss: 0.2603 - accuracy: 0.9118 - val_loss: 1.0899 - val_accuracy: 0.7133\n",
            "Epoch 20/30\n",
            "625/625 [==============================] - 13s 21ms/step - loss: 0.2169 - accuracy: 0.9275 - val_loss: 1.1334 - val_accuracy: 0.7054\n",
            "Epoch 21/30\n",
            "625/625 [==============================] - 13s 21ms/step - loss: 0.1861 - accuracy: 0.9397 - val_loss: 1.2563 - val_accuracy: 0.6958\n",
            "Epoch 22/30\n",
            "625/625 [==============================] - 14s 22ms/step - loss: 0.1564 - accuracy: 0.9469 - val_loss: 1.2934 - val_accuracy: 0.7029\n",
            "Epoch 23/30\n",
            "625/625 [==============================] - 13s 21ms/step - loss: 0.1234 - accuracy: 0.9594 - val_loss: 1.3735 - val_accuracy: 0.6986\n",
            "Epoch 24/30\n",
            "625/625 [==============================] - 13s 21ms/step - loss: 0.1111 - accuracy: 0.9633 - val_loss: 1.4332 - val_accuracy: 0.6993\n",
            "Epoch 25/30\n",
            "625/625 [==============================] - 14s 22ms/step - loss: 0.0871 - accuracy: 0.9720 - val_loss: 1.5342 - val_accuracy: 0.7075\n",
            "Epoch 26/30\n",
            "625/625 [==============================] - 14s 22ms/step - loss: 0.0746 - accuracy: 0.9759 - val_loss: 1.5122 - val_accuracy: 0.7113\n",
            "Epoch 27/30\n",
            "625/625 [==============================] - 13s 22ms/step - loss: 0.0561 - accuracy: 0.9825 - val_loss: 1.5942 - val_accuracy: 0.7044\n",
            "Epoch 28/30\n",
            "625/625 [==============================] - 14s 22ms/step - loss: 0.0563 - accuracy: 0.9814 - val_loss: 1.6144 - val_accuracy: 0.7189\n",
            "Epoch 29/30\n",
            "625/625 [==============================] - 14s 22ms/step - loss: 0.0551 - accuracy: 0.9825 - val_loss: 1.6316 - val_accuracy: 0.7145\n",
            "Epoch 30/30\n",
            "625/625 [==============================] - 14s 22ms/step - loss: 0.0526 - accuracy: 0.9815 - val_loss: 1.7302 - val_accuracy: 0.7131\n",
            "INFO:tensorflow:Assets written to: cifar10model.model/assets\n"
          ],
          "name": "stdout"
        }
      ]
    },
    {
      "cell_type": "code",
      "metadata": {
        "colab": {
          "base_uri": "https://localhost:8080/",
          "height": 904
        },
        "id": "7fefb713",
        "outputId": "2710914c-d490-429c-8c4d-bde01cb17cf7"
      },
      "source": [
        "import seaborn as sns\n",
        "# Predict the values from the validation dataset\n",
        "y_pred = model.predict(x_test_norm)\n",
        "# Convert predictions classes to one hot vectors \n",
        "y_pred_classes = np.argmax(y_pred,axis = 1) \n",
        "# Convert validation observations to one hot vectors\n",
        "y_true = np.argmax(y_test,axis = 1)\n",
        "# compute the confusion matrix\n",
        "confusion_mtx = tf.math.confusion_matrix(y_true, y_pred_classes)\n",
        "\n",
        "plt.figure(figsize=(12, 9))\n",
        "c = sns.heatmap(confusion_mtx, annot=True, fmt='g')\n",
        "c.set(xticklabels=cifar10_classes, yticklabels=cifar10_classes)"
      ],
      "id": "7fefb713",
      "execution_count": 5,
      "outputs": [
        {
          "output_type": "execute_result",
          "data": {
            "text/plain": [
              "[[Text(0, 0.5, 'airplane'),\n",
              "  Text(0, 1.5, 'automobile'),\n",
              "  Text(0, 2.5, 'bird'),\n",
              "  Text(0, 3.5, 'cat'),\n",
              "  Text(0, 4.5, 'deer'),\n",
              "  Text(0, 5.5, 'dog'),\n",
              "  Text(0, 6.5, 'frog'),\n",
              "  Text(0, 7.5, 'horse'),\n",
              "  Text(0, 8.5, 'ship'),\n",
              "  Text(0, 9.5, 'truck')],\n",
              " [Text(0.5, 0, 'airplane'),\n",
              "  Text(1.5, 0, 'automobile'),\n",
              "  Text(2.5, 0, 'bird'),\n",
              "  Text(3.5, 0, 'cat'),\n",
              "  Text(4.5, 0, 'deer'),\n",
              "  Text(5.5, 0, 'dog'),\n",
              "  Text(6.5, 0, 'frog'),\n",
              "  Text(7.5, 0, 'horse'),\n",
              "  Text(8.5, 0, 'ship'),\n",
              "  Text(9.5, 0, 'truck')]]"
            ]
          },
          "metadata": {
            "tags": []
          },
          "execution_count": 5
        },
        {
          "output_type": "display_data",
          "data": {
            "image/png": "[encoded data removed]",
            "text/plain": [
              "<Figure size 864x648 with 2 Axes>"
            ]
          },
          "metadata": {
            "tags": [],
            "needs_background": "light"
          }
        }
      ]
    },
    {
      "cell_type": "code",
      "metadata": {
        "id": "-E6wefXFrisQ"
      },
      "source": [
        "def prepare4predict (number):\n",
        "    np.set_printoptions(suppress=True)\n",
        "    xpred = x_test_norm[number].reshape(1, 32, 32, 3)\n",
        "    plt.imshow(x_test_norm[number])\n",
        "    return xpred\n",
        "    #plt.imshow(x_test2[1])\n",
        "    \n",
        "def mypredict (xpred):\n",
        "    ypred3 = model.predict(xpred)\n",
        "    #print(ypred3[0][1])\n",
        "    #print(ypred3.dtype)\n",
        "    #print(ypred3.sort(axis=0))\n",
        "    nclass = np.array(cifar10_classes)\n",
        "    #print(nclass)\n",
        "    classprob = np.zeros([], dtype=[('class', '<U10'), ('prob', '<f8')])\n",
        "    #print(classprob.dtype)\n",
        "    for i in range(0, NUM_CLASSES):\n",
        "        \n",
        "        #aufteilung = np.array([[cifar10_classes[i]], [ypred3[0][i]]])\n",
        "        aufteilung = np.array([(nclass[i], ypred3[0][i])], dtype=[('class', '<U10'), ('prob', '<f8')])\n",
        "        classprob = np.insert(classprob, [i], aufteilung)\n",
        "        #print(\"{}\".format(aufteilung))\n",
        "        #print(aufteilung.type)\n",
        "        \n",
        "        #print (\"{} -> {}\".format(nclass[i], ypred3[0][i]))\n",
        "        \n",
        "    #print('hi')\n",
        "    classprob = np.delete(classprob, 10)\n",
        "    #print(classprob)\n",
        "    #print(classprob.shape)\n",
        "    c = np.sort(classprob, order='prob', axis=0)\n",
        "    print(c)\n",
        "    #print(classprob[:-1].sort(order='prob'))\n",
        "    #print(asort.type)\n",
        "    a=0\n",
        "    for z in range(0, 10):\n",
        "        q = c[z][1]\n",
        "        a += q\n",
        "    \n",
        "    print(a)\n",
        "    y_pred_c = np.argmax(ypred3, axis=1)\n",
        "    #print(y_pred_c)\n",
        "    predlab = cifar10_classes[y_pred_c[0]]\n",
        "    print(predlab)\n",
        "    return xpred"
      ],
      "id": "-E6wefXFrisQ",
      "execution_count": 6,
      "outputs": []
    },
    {
      "cell_type": "code",
      "metadata": {
        "colab": {
          "base_uri": "https://localhost:8080/",
          "height": 376
        },
        "id": "zkXAg6xFr_5U",
        "outputId": "3a0c214e-061e-4399-fd3d-543aa54792e1"
      },
      "source": [
        "xpred = prepare4predict(5)\n",
        "pred = mypredict (xpred)"
      ],
      "id": "zkXAg6xFr_5U",
      "execution_count": 8,
      "outputs": [
        {
          "output_type": "stream",
          "text": [
            "[('automobile', 0.        ) ('ship', 0.        ) ('truck', 0.00000039)\n",
            " ('horse', 0.00000071) ('airplane', 0.00000129) ('dog', 0.00043666)\n",
            " ('bird', 0.00310421) ('deer', 0.05551579) ('cat', 0.09996912)\n",
            " ('frog', 0.84097183)]\n",
            "1.0000000021696813\n",
            "frog\n"
          ],
          "name": "stdout"
        },
        {
          "output_type": "display_data",
          "data": {
            "image/png": "[encoded data removed]",
            "text/plain": [
              "<Figure size 432x288 with 1 Axes>"
            ]
          },
          "metadata": {
            "tags": [],
            "needs_background": "light"
          }
        }
      ]
    },
    {
      "cell_type": "code",
      "metadata": {
        "colab": {
          "base_uri": "https://localhost:8080/",
          "height": 393
        },
        "id": "JXwcB43bsDjc",
        "outputId": "0232f82e-995d-44df-c17f-10c0ed387a40"
      },
      "source": [
        "import skimage.io \n",
        "import skimage.segmentation\n",
        "import lime\n",
        "from lime import lime_image\n",
        "explainer = lime_image.LimeImageExplainer()\n",
        "explanation = explainer.explain_instance(\n",
        "    xpred[0].astype('double'), \n",
        "    model.predict, \n",
        "    top_labels=3, \n",
        "    hide_color=0, \n",
        "    num_samples=1000)\n",
        "\n",
        "temp, mask = explanation.get_image_and_mask(\n",
        "    explanation.top_labels[0], \n",
        "    positive_only=True, \n",
        "    num_features=3, \n",
        "    hide_rest=True)\n",
        "plt.imshow(skimage.segmentation.mark_boundaries(temp, mask))"
      ],
      "id": "JXwcB43bsDjc",
      "execution_count": 10,
      "outputs": [
        {
          "output_type": "error",
          "ename": "ModuleNotFoundError",
          "evalue": "ignored",
          "traceback": [
            "\u001b[0;31m---------------------------------------------------------------------------\u001b[0m",
            "\u001b[0;31mModuleNotFoundError\u001b[0m                       Traceback (most recent call last)",
            "\u001b[0;32m<ipython-input-10-87ad838ca861>\u001b[0m in \u001b[0;36m<module>\u001b[0;34m()\u001b[0m\n\u001b[1;32m      1\u001b[0m \u001b[0;32mimport\u001b[0m \u001b[0mskimage\u001b[0m\u001b[0;34m.\u001b[0m\u001b[0mio\u001b[0m\u001b[0;34m\u001b[0m\u001b[0;34m\u001b[0m\u001b[0m\n\u001b[1;32m      2\u001b[0m \u001b[0;32mimport\u001b[0m \u001b[0mskimage\u001b[0m\u001b[0;34m.\u001b[0m\u001b[0msegmentation\u001b[0m\u001b[0;34m\u001b[0m\u001b[0;34m\u001b[0m\u001b[0m\n\u001b[0;32m----> 3\u001b[0;31m \u001b[0;32mimport\u001b[0m \u001b[0mlime\u001b[0m\u001b[0;34m\u001b[0m\u001b[0;34m\u001b[0m\u001b[0m\n\u001b[0m\u001b[1;32m      4\u001b[0m \u001b[0;32mfrom\u001b[0m \u001b[0mlime\u001b[0m \u001b[0;32mimport\u001b[0m \u001b[0mlime_image\u001b[0m\u001b[0;34m\u001b[0m\u001b[0;34m\u001b[0m\u001b[0m\n\u001b[1;32m      5\u001b[0m \u001b[0mexplainer\u001b[0m \u001b[0;34m=\u001b[0m \u001b[0mlime_image\u001b[0m\u001b[0;34m.\u001b[0m\u001b[0mLimeImageExplainer\u001b[0m\u001b[0;34m(\u001b[0m\u001b[0;34m)\u001b[0m\u001b[0;34m\u001b[0m\u001b[0;34m\u001b[0m\u001b[0m\n",
            "\u001b[0;31mModuleNotFoundError\u001b[0m: No module named 'lime'",
            "",
            "\u001b[0;31m---------------------------------------------------------------------------\u001b[0;32m\nNOTE: If your import is failing due to a missing package, you can\nmanually install dependencies using either !pip or !apt.\n\nTo view examples of installing some common dependencies, click the\n\"Open Examples\" button below.\n\u001b[0;31m---------------------------------------------------------------------------\u001b[0m\n"
          ]
        }
      ]
    },
    {
      "cell_type": "code",
      "metadata": {
        "id": "WoMOabxisX25"
      },
      "source": [
        ""
      ],
      "id": "WoMOabxisX25",
      "execution_count": null,
      "outputs": []
    }
  ]
}